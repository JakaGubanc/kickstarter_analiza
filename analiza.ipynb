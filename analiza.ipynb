{
 "cells": [
  {
   "cell_type": "code",
   "execution_count": 2,
   "metadata": {
    "collapsed": false
   },
   "outputs": [],
   "source": [
    "import pandas as pd\n",
    "\n",
    "projekti = pd.read_csv('projekti.csv')\n",
    "\n",
    "pd.options.display.max_rows = 20\n",
    "%matplotlib inline"
   ]
  },
  {
   "cell_type": "code",
   "execution_count": 32,
   "metadata": {
    "collapsed": false,
    "scrolled": false
   },
   "outputs": [
    {
     "data": {
      "text/html": [
       "<div>\n",
       "<table border=\"1\" class=\"dataframe\">\n",
       "  <thead>\n",
       "    <tr style=\"text-align: right;\">\n",
       "      <th></th>\n",
       "      <th>naslov</th>\n",
       "      <th>avtor</th>\n",
       "      <th>drzava</th>\n",
       "      <th>kategorija</th>\n",
       "      <th>st_backerjev</th>\n",
       "      <th>cilj</th>\n",
       "      <th>pridobljen_denar</th>\n",
       "      <th>uspesnost</th>\n",
       "      <th>povzetek</th>\n",
       "    </tr>\n",
       "  </thead>\n",
       "  <tbody>\n",
       "    <tr>\n",
       "      <th>0</th>\n",
       "      <td>VET Tv - Streaming TV network for post 9/11 ve...</td>\n",
       "      <td>Donny O'Malley</td>\n",
       "      <td>US</td>\n",
       "      <td>Comedy</td>\n",
       "      <td>3609</td>\n",
       "      <td>250000</td>\n",
       "      <td>296331</td>\n",
       "      <td>1</td>\n",
       "      <td>Comedy Central + Military Channel + Hulu = A s...</td>\n",
       "    </tr>\n",
       "    <tr>\n",
       "      <th>1</th>\n",
       "      <td>Christian &amp; LDS Religious Block Sets &amp; Figures</td>\n",
       "      <td>Our Picnic Tree: Scripture Stackers</td>\n",
       "      <td>US</td>\n",
       "      <td>Product Design</td>\n",
       "      <td>295</td>\n",
       "      <td>15000</td>\n",
       "      <td>16048</td>\n",
       "      <td>1</td>\n",
       "      <td>Scripture Stackers BUILD: Faith, Character and...</td>\n",
       "    </tr>\n",
       "    <tr>\n",
       "      <th>2</th>\n",
       "      <td>Just the Tip for your Stainless Steel Straws (...</td>\n",
       "      <td>Softer Sip</td>\n",
       "      <td>US</td>\n",
       "      <td>Design</td>\n",
       "      <td>0</td>\n",
       "      <td>10000</td>\n",
       "      <td>0</td>\n",
       "      <td>0</td>\n",
       "      <td>Tips that protect your teeth and lips from chi...</td>\n",
       "    </tr>\n",
       "    <tr>\n",
       "      <th>3</th>\n",
       "      <td>Underwater IP9K 4K True 360 VR Action Camera P...</td>\n",
       "      <td>Alexis Fernandez</td>\n",
       "      <td>US</td>\n",
       "      <td>Camera Equipment</td>\n",
       "      <td>164</td>\n",
       "      <td>9000</td>\n",
       "      <td>30126</td>\n",
       "      <td>1</td>\n",
       "      <td>Vyu360 4K VR 360 Camera a virtual reality acti...</td>\n",
       "    </tr>\n",
       "    <tr>\n",
       "      <th>4</th>\n",
       "      <td>Ensear programacin a nios</td>\n",
       "      <td>Eduardo</td>\n",
       "      <td>ES</td>\n",
       "      <td>Software</td>\n",
       "      <td>1</td>\n",
       "      <td>8000</td>\n",
       "      <td>10</td>\n",
       "      <td>0</td>\n",
       "      <td>Crear cursos anuales gratuitos para nios que l...</td>\n",
       "    </tr>\n",
       "    <tr>\n",
       "      <th>5</th>\n",
       "      <td>Torq-47</td>\n",
       "      <td>Ken Dael</td>\n",
       "      <td>US</td>\n",
       "      <td>Product Design</td>\n",
       "      <td>54</td>\n",
       "      <td>15000</td>\n",
       "      <td>2506</td>\n",
       "      <td>0</td>\n",
       "      <td>A compact 47-in-1 screwdriver-wrench combination.</td>\n",
       "    </tr>\n",
       "    <tr>\n",
       "      <th>6</th>\n",
       "      <td>torn. A Body Horror Film</td>\n",
       "      <td>Matt Hardy</td>\n",
       "      <td>US</td>\n",
       "      <td>Horror</td>\n",
       "      <td>34</td>\n",
       "      <td>4000</td>\n",
       "      <td>4150</td>\n",
       "      <td>1</td>\n",
       "      <td>\\\\</td>\n",
       "    </tr>\n",
       "    <tr>\n",
       "      <th>7</th>\n",
       "      <td>Vibes International Music Festival</td>\n",
       "      <td>Our management Team</td>\n",
       "      <td>US</td>\n",
       "      <td>World Music</td>\n",
       "      <td>1</td>\n",
       "      <td>25000</td>\n",
       "      <td>1</td>\n",
       "      <td>0</td>\n",
       "      <td>VIBES INTERNATIONAL MUSIC FESTIVAL Awareness &amp;...</td>\n",
       "    </tr>\n",
       "    <tr>\n",
       "      <th>8</th>\n",
       "      <td>SketchyNotebook Series: Creative's All-In-One ...</td>\n",
       "      <td>Tim Tu</td>\n",
       "      <td>US</td>\n",
       "      <td>Product Design</td>\n",
       "      <td>1510</td>\n",
       "      <td>30000</td>\n",
       "      <td>60079</td>\n",
       "      <td>1</td>\n",
       "      <td>Minimalist sketchbook / notebook for journalis...</td>\n",
       "    </tr>\n",
       "    <tr>\n",
       "      <th>9</th>\n",
       "      <td>Parts and Crafts Monthly Make-It!</td>\n",
       "      <td>Parts and Crafts</td>\n",
       "      <td>US</td>\n",
       "      <td>Makerspaces</td>\n",
       "      <td>275</td>\n",
       "      <td>20000</td>\n",
       "      <td>37104</td>\n",
       "      <td>1</td>\n",
       "      <td>A box of cool projects every month, shipped di...</td>\n",
       "    </tr>\n",
       "    <tr>\n",
       "      <th>...</th>\n",
       "      <td>...</td>\n",
       "      <td>...</td>\n",
       "      <td>...</td>\n",
       "      <td>...</td>\n",
       "      <td>...</td>\n",
       "      <td>...</td>\n",
       "      <td>...</td>\n",
       "      <td>...</td>\n",
       "      <td>...</td>\n",
       "    </tr>\n",
       "    <tr>\n",
       "      <th>2002</th>\n",
       "      <td>Unmotivated Comedy</td>\n",
       "      <td>Chad Macaroe</td>\n",
       "      <td>US</td>\n",
       "      <td>Conceptual Art</td>\n",
       "      <td>1</td>\n",
       "      <td>60</td>\n",
       "      <td>1</td>\n",
       "      <td>0</td>\n",
       "      <td>Unmotivated Late night art for girlfriends to ...</td>\n",
       "    </tr>\n",
       "    <tr>\n",
       "      <th>2003</th>\n",
       "      <td>Stitches - A Card Game of Monstrous Proportions</td>\n",
       "      <td>Norwester Games</td>\n",
       "      <td>US</td>\n",
       "      <td>Tabletop Games</td>\n",
       "      <td>523</td>\n",
       "      <td>11000</td>\n",
       "      <td>16480</td>\n",
       "      <td>1</td>\n",
       "      <td>A fast-paced monster-brawling card game for 3 ...</td>\n",
       "    </tr>\n",
       "    <tr>\n",
       "      <th>2004</th>\n",
       "      <td>Flu and Friends</td>\n",
       "      <td>April Sinclair</td>\n",
       "      <td>US</td>\n",
       "      <td>Children's Books</td>\n",
       "      <td>1</td>\n",
       "      <td>2000</td>\n",
       "      <td>200</td>\n",
       "      <td>0</td>\n",
       "      <td>A mischievous bug named Flu loves to party but...</td>\n",
       "    </tr>\n",
       "    <tr>\n",
       "      <th>2005</th>\n",
       "      <td>Dimgaard Vol. XIII - 5E DnD Adventures</td>\n",
       "      <td>Dan Hass</td>\n",
       "      <td>US</td>\n",
       "      <td>Tabletop Games</td>\n",
       "      <td>119</td>\n",
       "      <td>60</td>\n",
       "      <td>2342</td>\n",
       "      <td>1</td>\n",
       "      <td>Adventures you can use to build epics for the ...</td>\n",
       "    </tr>\n",
       "    <tr>\n",
       "      <th>2006</th>\n",
       "      <td>Tholos, A Universal Sizing App</td>\n",
       "      <td>Lillith Demiurge</td>\n",
       "      <td>US</td>\n",
       "      <td>Apps</td>\n",
       "      <td>0</td>\n",
       "      <td>71309</td>\n",
       "      <td>0</td>\n",
       "      <td>0</td>\n",
       "      <td>Buying ill-fitting clothes isn't your fault, i...</td>\n",
       "    </tr>\n",
       "    <tr>\n",
       "      <th>2007</th>\n",
       "      <td>Magnetic Zipper - Patent Pending - Say Goodbye...</td>\n",
       "      <td>John Siebert</td>\n",
       "      <td>US</td>\n",
       "      <td>Apparel</td>\n",
       "      <td>20</td>\n",
       "      <td>15000</td>\n",
       "      <td>1956</td>\n",
       "      <td>0</td>\n",
       "      <td>Since it was patented in 1851 there hasn't bee...</td>\n",
       "    </tr>\n",
       "    <tr>\n",
       "      <th>2008</th>\n",
       "      <td>Music Video Fund</td>\n",
       "      <td>Deonte Jones</td>\n",
       "      <td>US</td>\n",
       "      <td>Music</td>\n",
       "      <td>1</td>\n",
       "      <td>10</td>\n",
       "      <td>5</td>\n",
       "      <td>0</td>\n",
       "      <td>Please help me out i have plenty of goals in l...</td>\n",
       "    </tr>\n",
       "    <tr>\n",
       "      <th>2009</th>\n",
       "      <td>31 Ghost Stories</td>\n",
       "      <td>Jeff Provine</td>\n",
       "      <td>US</td>\n",
       "      <td>Fiction</td>\n",
       "      <td>44</td>\n",
       "      <td>1300</td>\n",
       "      <td>1437</td>\n",
       "      <td>1</td>\n",
       "      <td>An anthology of illustrated spooky tales for l...</td>\n",
       "    </tr>\n",
       "    <tr>\n",
       "      <th>2010</th>\n",
       "      <td>M.U.L.E. - Pack Revolution!</td>\n",
       "      <td>melvin mccoy</td>\n",
       "      <td>US</td>\n",
       "      <td>Product Design</td>\n",
       "      <td>13</td>\n",
       "      <td>90000</td>\n",
       "      <td>4406</td>\n",
       "      <td>0</td>\n",
       "      <td>The M.U.L.E. is a hiking and backpacking devic...</td>\n",
       "    </tr>\n",
       "    <tr>\n",
       "      <th>2011</th>\n",
       "      <td>Embrace the Spoilers: Winter Movie Season 2016...</td>\n",
       "      <td>Garrett</td>\n",
       "      <td>US</td>\n",
       "      <td>Radio &amp; Podcasts</td>\n",
       "      <td>24</td>\n",
       "      <td>1000</td>\n",
       "      <td>650</td>\n",
       "      <td>0</td>\n",
       "      <td>Embrace the Spoilers continues with Jocelyn Mo...</td>\n",
       "    </tr>\n",
       "  </tbody>\n",
       "</table>\n",
       "<p>2012 rows × 9 columns</p>\n",
       "</div>"
      ],
      "text/plain": [
       "                                                 naslov  \\\n",
       "0     VET Tv - Streaming TV network for post 9/11 ve...   \n",
       "1        Christian & LDS Religious Block Sets & Figures   \n",
       "2     Just the Tip for your Stainless Steel Straws (...   \n",
       "3     Underwater IP9K 4K True 360 VR Action Camera P...   \n",
       "4                             Ensear programacin a nios   \n",
       "5                                               Torq-47   \n",
       "6                              torn. A Body Horror Film   \n",
       "7                    Vibes International Music Festival   \n",
       "8     SketchyNotebook Series: Creative's All-In-One ...   \n",
       "9                     Parts and Crafts Monthly Make-It!   \n",
       "...                                                 ...   \n",
       "2002                                 Unmotivated Comedy   \n",
       "2003    Stitches - A Card Game of Monstrous Proportions   \n",
       "2004                                    Flu and Friends   \n",
       "2005             Dimgaard Vol. XIII - 5E DnD Adventures   \n",
       "2006                     Tholos, A Universal Sizing App   \n",
       "2007  Magnetic Zipper - Patent Pending - Say Goodbye...   \n",
       "2008                                   Music Video Fund   \n",
       "2009                                   31 Ghost Stories   \n",
       "2010                        M.U.L.E. - Pack Revolution!   \n",
       "2011  Embrace the Spoilers: Winter Movie Season 2016...   \n",
       "\n",
       "                                    avtor drzava        kategorija  \\\n",
       "0                          Donny O'Malley     US            Comedy   \n",
       "1     Our Picnic Tree: Scripture Stackers     US    Product Design   \n",
       "2                              Softer Sip     US            Design   \n",
       "3                        Alexis Fernandez     US  Camera Equipment   \n",
       "4                                 Eduardo     ES          Software   \n",
       "5                                Ken Dael     US    Product Design   \n",
       "6                              Matt Hardy     US            Horror   \n",
       "7                     Our management Team     US       World Music   \n",
       "8                                  Tim Tu     US    Product Design   \n",
       "9                        Parts and Crafts     US       Makerspaces   \n",
       "...                                   ...    ...               ...   \n",
       "2002                         Chad Macaroe     US    Conceptual Art   \n",
       "2003                      Norwester Games     US    Tabletop Games   \n",
       "2004                       April Sinclair     US  Children's Books   \n",
       "2005                             Dan Hass     US    Tabletop Games   \n",
       "2006                     Lillith Demiurge     US              Apps   \n",
       "2007                         John Siebert     US           Apparel   \n",
       "2008                         Deonte Jones     US             Music   \n",
       "2009                         Jeff Provine     US           Fiction   \n",
       "2010                         melvin mccoy     US    Product Design   \n",
       "2011                              Garrett     US  Radio & Podcasts   \n",
       "\n",
       "      st_backerjev    cilj  pridobljen_denar  uspesnost  \\\n",
       "0             3609  250000            296331          1   \n",
       "1              295   15000             16048          1   \n",
       "2                0   10000                 0          0   \n",
       "3              164    9000             30126          1   \n",
       "4                1    8000                10          0   \n",
       "5               54   15000              2506          0   \n",
       "6               34    4000              4150          1   \n",
       "7                1   25000                 1          0   \n",
       "8             1510   30000             60079          1   \n",
       "9              275   20000             37104          1   \n",
       "...            ...     ...               ...        ...   \n",
       "2002             1      60                 1          0   \n",
       "2003           523   11000             16480          1   \n",
       "2004             1    2000               200          0   \n",
       "2005           119      60              2342          1   \n",
       "2006             0   71309                 0          0   \n",
       "2007            20   15000              1956          0   \n",
       "2008             1      10                 5          0   \n",
       "2009            44    1300              1437          1   \n",
       "2010            13   90000              4406          0   \n",
       "2011            24    1000               650          0   \n",
       "\n",
       "                                               povzetek  \n",
       "0     Comedy Central + Military Channel + Hulu = A s...  \n",
       "1     Scripture Stackers BUILD: Faith, Character and...  \n",
       "2     Tips that protect your teeth and lips from chi...  \n",
       "3     Vyu360 4K VR 360 Camera a virtual reality acti...  \n",
       "4     Crear cursos anuales gratuitos para nios que l...  \n",
       "5     A compact 47-in-1 screwdriver-wrench combination.  \n",
       "6                                                    \\\\  \n",
       "7     VIBES INTERNATIONAL MUSIC FESTIVAL Awareness &...  \n",
       "8     Minimalist sketchbook / notebook for journalis...  \n",
       "9     A box of cool projects every month, shipped di...  \n",
       "...                                                 ...  \n",
       "2002  Unmotivated Late night art for girlfriends to ...  \n",
       "2003  A fast-paced monster-brawling card game for 3 ...  \n",
       "2004  A mischievous bug named Flu loves to party but...  \n",
       "2005  Adventures you can use to build epics for the ...  \n",
       "2006  Buying ill-fitting clothes isn't your fault, i...  \n",
       "2007  Since it was patented in 1851 there hasn't bee...  \n",
       "2008  Please help me out i have plenty of goals in l...  \n",
       "2009  An anthology of illustrated spooky tales for l...  \n",
       "2010  The M.U.L.E. is a hiking and backpacking devic...  \n",
       "2011  Embrace the Spoilers continues with Jocelyn Mo...  \n",
       "\n",
       "[2012 rows x 9 columns]"
      ]
     },
     "execution_count": 32,
     "metadata": {},
     "output_type": "execute_result"
    }
   ],
   "source": [
    "projekti"
   ]
  },
  {
   "cell_type": "markdown",
   "metadata": {},
   "source": [
    "Izračunajmo najprej nekaj osnovnih informacij. Poglejmo koliko denarja je bilo zbranega v teh petnajstih dneh."
   ]
  },
  {
   "cell_type": "code",
   "execution_count": 10,
   "metadata": {
    "collapsed": false
   },
   "outputs": [
    {
     "data": {
      "text/plain": [
       "34101334"
      ]
     },
     "execution_count": 10,
     "metadata": {},
     "output_type": "execute_result"
    }
   ],
   "source": [
    "projekti.sum()['pridobljen_denar']"
   ]
  },
  {
   "cell_type": "markdown",
   "metadata": {},
   "source": [
    "Vidimo, da Kickstarter v petnajstih dneh nabere dobrih 34 miljonov dolarjev za projekte. Poščimo še najbolj popularen(po številu beckerjev) in najbolj uspešne(po pridobljenem denarju) projekt."
   ]
  },
  {
   "cell_type": "code",
   "execution_count": 15,
   "metadata": {
    "collapsed": false
   },
   "outputs": [
    {
     "data": {
      "text/html": [
       "<div>\n",
       "<table border=\"1\" class=\"dataframe\">\n",
       "  <thead>\n",
       "    <tr style=\"text-align: right;\">\n",
       "      <th></th>\n",
       "      <th>naslov</th>\n",
       "      <th>avtor</th>\n",
       "      <th>drzava</th>\n",
       "      <th>kategorija</th>\n",
       "      <th>st_backerjev</th>\n",
       "      <th>cilj</th>\n",
       "      <th>pridobljen_denar</th>\n",
       "      <th>uspesnost</th>\n",
       "      <th>povzetek</th>\n",
       "    </tr>\n",
       "  </thead>\n",
       "  <tbody>\n",
       "    <tr>\n",
       "      <th>456</th>\n",
       "      <td>Bears vs Babies - A Card Game</td>\n",
       "      <td>Elan Lee</td>\n",
       "      <td>US</td>\n",
       "      <td>Tabletop Games</td>\n",
       "      <td>85581</td>\n",
       "      <td>10000</td>\n",
       "      <td>3215679</td>\n",
       "      <td>1</td>\n",
       "      <td>A monster-building card game from the creators...</td>\n",
       "    </tr>\n",
       "    <tr>\n",
       "      <th>1636</th>\n",
       "      <td>HICKIES 2.0 - The Evolution of Shoelaces</td>\n",
       "      <td>Mariquel &amp; Gaston</td>\n",
       "      <td>US</td>\n",
       "      <td>Product Design</td>\n",
       "      <td>13538</td>\n",
       "      <td>25000</td>\n",
       "      <td>580605</td>\n",
       "      <td>1</td>\n",
       "      <td>Turn your shoes into slip-on &amp; never tie again...</td>\n",
       "    </tr>\n",
       "    <tr>\n",
       "      <th>806</th>\n",
       "      <td>que Bottle: The Fashionable &amp; Collapsible Trav...</td>\n",
       "      <td>queFactory</td>\n",
       "      <td>US</td>\n",
       "      <td>Product Design</td>\n",
       "      <td>11610</td>\n",
       "      <td>20000</td>\n",
       "      <td>560785</td>\n",
       "      <td>1</td>\n",
       "      <td>The only bottle that fits in your bag and matc...</td>\n",
       "    </tr>\n",
       "  </tbody>\n",
       "</table>\n",
       "</div>"
      ],
      "text/plain": [
       "                                                 naslov              avtor  \\\n",
       "456                       Bears vs Babies - A Card Game           Elan Lee   \n",
       "1636           HICKIES 2.0 - The Evolution of Shoelaces  Mariquel & Gaston   \n",
       "806   que Bottle: The Fashionable & Collapsible Trav...         queFactory   \n",
       "\n",
       "     drzava      kategorija  st_backerjev   cilj  pridobljen_denar  uspesnost  \\\n",
       "456      US  Tabletop Games         85581  10000           3215679          1   \n",
       "1636     US  Product Design         13538  25000            580605          1   \n",
       "806      US  Product Design         11610  20000            560785          1   \n",
       "\n",
       "                                               povzetek  \n",
       "456   A monster-building card game from the creators...  \n",
       "1636  Turn your shoes into slip-on & never tie again...  \n",
       "806   The only bottle that fits in your bag and matc...  "
      ]
     },
     "execution_count": 15,
     "metadata": {},
     "output_type": "execute_result"
    }
   ],
   "source": [
    "projekti.sort_values(by = 'st_backerjev',ascending = False)[:3]"
   ]
  },
  {
   "cell_type": "code",
   "execution_count": 16,
   "metadata": {
    "collapsed": false
   },
   "outputs": [
    {
     "data": {
      "text/html": [
       "<div>\n",
       "<table border=\"1\" class=\"dataframe\">\n",
       "  <thead>\n",
       "    <tr style=\"text-align: right;\">\n",
       "      <th></th>\n",
       "      <th>naslov</th>\n",
       "      <th>avtor</th>\n",
       "      <th>drzava</th>\n",
       "      <th>kategorija</th>\n",
       "      <th>st_backerjev</th>\n",
       "      <th>cilj</th>\n",
       "      <th>pridobljen_denar</th>\n",
       "      <th>uspesnost</th>\n",
       "      <th>povzetek</th>\n",
       "    </tr>\n",
       "  </thead>\n",
       "  <tbody>\n",
       "    <tr>\n",
       "      <th>456</th>\n",
       "      <td>Bears vs Babies - A Card Game</td>\n",
       "      <td>Elan Lee</td>\n",
       "      <td>US</td>\n",
       "      <td>Tabletop Games</td>\n",
       "      <td>85581</td>\n",
       "      <td>10000</td>\n",
       "      <td>3215679</td>\n",
       "      <td>1</td>\n",
       "      <td>A monster-building card game from the creators...</td>\n",
       "    </tr>\n",
       "    <tr>\n",
       "      <th>1380</th>\n",
       "      <td>Deep Madness</td>\n",
       "      <td>Diemension Games</td>\n",
       "      <td>US</td>\n",
       "      <td>Tabletop Games</td>\n",
       "      <td>9566</td>\n",
       "      <td>100000</td>\n",
       "      <td>1438293</td>\n",
       "      <td>1</td>\n",
       "      <td>A co-operative game for 1-6 players with amazi...</td>\n",
       "    </tr>\n",
       "    <tr>\n",
       "      <th>1932</th>\n",
       "      <td>The First Desktop Waterjet Cutter</td>\n",
       "      <td>WAZER</td>\n",
       "      <td>US</td>\n",
       "      <td>Fabrication Tools</td>\n",
       "      <td>1301</td>\n",
       "      <td>100000</td>\n",
       "      <td>1331936</td>\n",
       "      <td>1</td>\n",
       "      <td>Cut any material with digital precision using ...</td>\n",
       "    </tr>\n",
       "  </tbody>\n",
       "</table>\n",
       "</div>"
      ],
      "text/plain": [
       "                                 naslov             avtor drzava  \\\n",
       "456       Bears vs Babies - A Card Game          Elan Lee     US   \n",
       "1380                       Deep Madness  Diemension Games     US   \n",
       "1932  The First Desktop Waterjet Cutter             WAZER     US   \n",
       "\n",
       "             kategorija  st_backerjev    cilj  pridobljen_denar  uspesnost  \\\n",
       "456      Tabletop Games         85581   10000           3215679          1   \n",
       "1380     Tabletop Games          9566  100000           1438293          1   \n",
       "1932  Fabrication Tools          1301  100000           1331936          1   \n",
       "\n",
       "                                               povzetek  \n",
       "456   A monster-building card game from the creators...  \n",
       "1380  A co-operative game for 1-6 players with amazi...  \n",
       "1932  Cut any material with digital precision using ...  "
      ]
     },
     "execution_count": 16,
     "metadata": {},
     "output_type": "execute_result"
    }
   ],
   "source": [
    "projekti.sort_values(by = 'pridobljen_denar',ascending = False)[:3]"
   ]
  },
  {
   "cell_type": "markdown",
   "metadata": {},
   "source": [
    "Poglejmo še kateri projekt je najbolj presegel svoj cilj."
   ]
  },
  {
   "cell_type": "code",
   "execution_count": 26,
   "metadata": {
    "collapsed": false,
    "scrolled": false
   },
   "outputs": [
    {
     "name": "stderr",
     "output_type": "stream",
     "text": [
      "c:\\users\\jaka\\appdata\\local\\programs\\python\\python35-32\\lib\\site-packages\\ipykernel\\__main__.py:2: SettingWithCopyWarning: \n",
      "A value is trying to be set on a copy of a slice from a DataFrame.\n",
      "Try using .loc[row_indexer,col_indexer] = value instead\n",
      "\n",
      "See the caveats in the documentation: http://pandas.pydata.org/pandas-docs/stable/indexing.html#indexing-view-versus-copy\n",
      "  from ipykernel import kernelapp as app\n"
     ]
    },
    {
     "data": {
      "text/html": [
       "<div>\n",
       "<table border=\"1\" class=\"dataframe\">\n",
       "  <thead>\n",
       "    <tr style=\"text-align: right;\">\n",
       "      <th></th>\n",
       "      <th>naslov</th>\n",
       "      <th>avtor</th>\n",
       "      <th>drzava</th>\n",
       "      <th>kategorija</th>\n",
       "      <th>st_backerjev</th>\n",
       "      <th>cilj</th>\n",
       "      <th>pridobljen_denar</th>\n",
       "      <th>uspesnost</th>\n",
       "      <th>povzetek</th>\n",
       "      <th>faktor presega</th>\n",
       "    </tr>\n",
       "  </thead>\n",
       "  <tbody>\n",
       "    <tr>\n",
       "      <th>456</th>\n",
       "      <td>Bears vs Babies - A Card Game</td>\n",
       "      <td>Elan Lee</td>\n",
       "      <td>US</td>\n",
       "      <td>Tabletop Games</td>\n",
       "      <td>85581</td>\n",
       "      <td>10000</td>\n",
       "      <td>3215679</td>\n",
       "      <td>1</td>\n",
       "      <td>A monster-building card game from the creators...</td>\n",
       "      <td>321.5679</td>\n",
       "    </tr>\n",
       "    <tr>\n",
       "      <th>1920</th>\n",
       "      <td>Solaris - Enrich Your Atmosphere</td>\n",
       "      <td>Ryan Ward</td>\n",
       "      <td>GB</td>\n",
       "      <td>Product Design</td>\n",
       "      <td>630</td>\n",
       "      <td>500</td>\n",
       "      <td>33215</td>\n",
       "      <td>1</td>\n",
       "      <td>Enrich the atmosphere around you with Solaris,...</td>\n",
       "      <td>66.4300</td>\n",
       "    </tr>\n",
       "    <tr>\n",
       "      <th>231</th>\n",
       "      <td>Relieve Pain &amp; Get Weight off your Shoulder w/...</td>\n",
       "      <td>Team Start Living</td>\n",
       "      <td>US</td>\n",
       "      <td>Product Design</td>\n",
       "      <td>6784</td>\n",
       "      <td>10000</td>\n",
       "      <td>573269</td>\n",
       "      <td>1</td>\n",
       "      <td>10 minutes! Relieve Stress &amp; Pain in Neck &amp; Sh...</td>\n",
       "      <td>57.3269</td>\n",
       "    </tr>\n",
       "  </tbody>\n",
       "</table>\n",
       "</div>"
      ],
      "text/plain": [
       "                                                 naslov              avtor  \\\n",
       "456                       Bears vs Babies - A Card Game           Elan Lee   \n",
       "1920                   Solaris - Enrich Your Atmosphere          Ryan Ward   \n",
       "231   Relieve Pain & Get Weight off your Shoulder w/...  Team Start Living   \n",
       "\n",
       "     drzava      kategorija  st_backerjev   cilj  pridobljen_denar  uspesnost  \\\n",
       "456      US  Tabletop Games         85581  10000           3215679          1   \n",
       "1920     GB  Product Design           630    500             33215          1   \n",
       "231      US  Product Design          6784  10000            573269          1   \n",
       "\n",
       "                                               povzetek  faktor presega  \n",
       "456   A monster-building card game from the creators...        321.5679  \n",
       "1920  Enrich the atmosphere around you with Solaris,...         66.4300  \n",
       "231   10 minutes! Relieve Stress & Pain in Neck & Sh...         57.3269  "
      ]
     },
     "execution_count": 26,
     "metadata": {},
     "output_type": "execute_result"
    }
   ],
   "source": [
    "faktor_presega = projekti[projekti.cilj > 100]\n",
    "faktor_presega['faktor presega'] = faktor_presega['pridobljen_denar']/faktor_presega['cilj']\n",
    "faktor_presega.sort_values(by = 'faktor presega',ascending=False)[:3]"
   ]
  },
  {
   "cell_type": "markdown",
   "metadata": {},
   "source": [
    "Vidimo da je v vseh kategorijha zmagal projekt z naslovom [Bears vs Babies - A Card Game](https://www.kickstarter.com/projects/elanlee/bears-vs-babies-a-card-game). Izračunajmo še kolikšen je procent uspešnoti naših projektov."
   ]
  },
  {
   "cell_type": "code",
   "execution_count": 33,
   "metadata": {
    "collapsed": false
   },
   "outputs": [],
   "source": [
    "uspesnost = (projekti['uspesnost'].sum()/2012)*100"
   ]
  },
  {
   "cell_type": "code",
   "execution_count": 34,
   "metadata": {
    "collapsed": false
   },
   "outputs": [
    {
     "data": {
      "text/plain": [
       "42.942345924453278"
      ]
     },
     "execution_count": 34,
     "metadata": {},
     "output_type": "execute_result"
    }
   ],
   "source": [
    "uspesnost"
   ]
  },
  {
   "cell_type": "markdown",
   "metadata": {},
   "source": [
    "Iz naših podatkov ugotovimo da je uspešnih približno 43 procentov projektov. Ker delamo z premalo podatki nismo dobili najboljšega rezultata, saj imajo Kickstarter projekti v resnici 35 procentno uspešnost."
   ]
  },
  {
   "cell_type": "markdown",
   "metadata": {},
   "source": [
    "Oglejmo si sedaj število in uspešnost projetkov po posameznih državah"
   ]
  },
  {
   "cell_type": "code",
   "execution_count": 35,
   "metadata": {
    "collapsed": false
   },
   "outputs": [
    {
     "data": {
      "text/plain": [
       "drzava\n",
       "US    1370\n",
       "GB     183\n",
       "CA     110\n",
       "DE      54\n",
       "AU      48\n",
       "FR      39\n",
       "IT      38\n",
       "ES      37\n",
       "NL      31\n",
       "CH      14\n",
       "SE      14\n",
       "IE      13\n",
       "SG      12\n",
       "HK      12\n",
       "NO      11\n",
       "NZ       8\n",
       "BE       7\n",
       "AT       6\n",
       "DK       5\n",
       "dtype: int64"
      ]
     },
     "execution_count": 35,
     "metadata": {},
     "output_type": "execute_result"
    }
   ],
   "source": [
    "projekti_po_drzavah = projekti.groupby('drzava').size().sort_values(ascending=False)\n",
    "projekti_po_drzavah"
   ]
  },
  {
   "cell_type": "code",
   "execution_count": 72,
   "metadata": {
    "collapsed": false
   },
   "outputs": [
    {
     "data": {
      "text/plain": [
       "<matplotlib.axes._subplots.AxesSubplot at 0x8ff53f0>"
      ]
     },
     "execution_count": 72,
     "metadata": {},
     "output_type": "execute_result"
    },
    {
     "data": {
      "image/png": "[encoded data removed]",
      "text/plain": [
       "<matplotlib.figure.Figure at 0x8ff8170>"
      ]
     },
     "metadata": {},
     "output_type": "display_data"
    }
   ],
   "source": [
    "projekti_po_drzavah[:15].plot(kind = 'pie',figsize=(6,6))"
   ]
  },
  {
   "cell_type": "markdown",
   "metadata": {
    "collapsed": true
   },
   "source": [
    "Vidimo da večino projektov prihaja iz ZDA. Ogejmo si še uspešnost teh petnajstih držav."
   ]
  },
  {
   "cell_type": "code",
   "execution_count": 58,
   "metadata": {
    "collapsed": false
   },
   "outputs": [
    {
     "data": {
      "text/html": [
       "<div>\n",
       "<table border=\"1\" class=\"dataframe\">\n",
       "  <thead>\n",
       "    <tr style=\"text-align: right;\">\n",
       "      <th></th>\n",
       "      <th>vseh</th>\n",
       "      <th>uspesnih</th>\n",
       "      <th>procent_uspesnosti</th>\n",
       "    </tr>\n",
       "    <tr>\n",
       "      <th>drzava</th>\n",
       "      <th></th>\n",
       "      <th></th>\n",
       "      <th></th>\n",
       "    </tr>\n",
       "  </thead>\n",
       "  <tbody>\n",
       "    <tr>\n",
       "      <th>GB</th>\n",
       "      <td>183</td>\n",
       "      <td>92</td>\n",
       "      <td>50.273224</td>\n",
       "    </tr>\n",
       "    <tr>\n",
       "      <th>US</th>\n",
       "      <td>1370</td>\n",
       "      <td>604</td>\n",
       "      <td>44.087591</td>\n",
       "    </tr>\n",
       "    <tr>\n",
       "      <th>FR</th>\n",
       "      <td>39</td>\n",
       "      <td>17</td>\n",
       "      <td>43.589744</td>\n",
       "    </tr>\n",
       "    <tr>\n",
       "      <th>DE</th>\n",
       "      <td>54</td>\n",
       "      <td>23</td>\n",
       "      <td>42.592593</td>\n",
       "    </tr>\n",
       "    <tr>\n",
       "      <th>CA</th>\n",
       "      <td>110</td>\n",
       "      <td>46</td>\n",
       "      <td>41.818182</td>\n",
       "    </tr>\n",
       "    <tr>\n",
       "      <th>SG</th>\n",
       "      <td>12</td>\n",
       "      <td>5</td>\n",
       "      <td>41.666667</td>\n",
       "    </tr>\n",
       "    <tr>\n",
       "      <th>AU</th>\n",
       "      <td>48</td>\n",
       "      <td>19</td>\n",
       "      <td>39.583333</td>\n",
       "    </tr>\n",
       "    <tr>\n",
       "      <th>IT</th>\n",
       "      <td>38</td>\n",
       "      <td>14</td>\n",
       "      <td>36.842105</td>\n",
       "    </tr>\n",
       "    <tr>\n",
       "      <th>SE</th>\n",
       "      <td>14</td>\n",
       "      <td>5</td>\n",
       "      <td>35.714286</td>\n",
       "    </tr>\n",
       "    <tr>\n",
       "      <th>HK</th>\n",
       "      <td>12</td>\n",
       "      <td>4</td>\n",
       "      <td>33.333333</td>\n",
       "    </tr>\n",
       "    <tr>\n",
       "      <th>IE</th>\n",
       "      <td>13</td>\n",
       "      <td>4</td>\n",
       "      <td>30.769231</td>\n",
       "    </tr>\n",
       "    <tr>\n",
       "      <th>NO</th>\n",
       "      <td>11</td>\n",
       "      <td>3</td>\n",
       "      <td>27.272727</td>\n",
       "    </tr>\n",
       "    <tr>\n",
       "      <th>ES</th>\n",
       "      <td>37</td>\n",
       "      <td>10</td>\n",
       "      <td>27.027027</td>\n",
       "    </tr>\n",
       "    <tr>\n",
       "      <th>NL</th>\n",
       "      <td>31</td>\n",
       "      <td>6</td>\n",
       "      <td>19.354839</td>\n",
       "    </tr>\n",
       "    <tr>\n",
       "      <th>CH</th>\n",
       "      <td>14</td>\n",
       "      <td>2</td>\n",
       "      <td>14.285714</td>\n",
       "    </tr>\n",
       "  </tbody>\n",
       "</table>\n",
       "</div>"
      ],
      "text/plain": [
       "        vseh  uspesnih  procent_uspesnosti\n",
       "drzava                                    \n",
       "GB       183        92           50.273224\n",
       "US      1370       604           44.087591\n",
       "FR        39        17           43.589744\n",
       "DE        54        23           42.592593\n",
       "CA       110        46           41.818182\n",
       "SG        12         5           41.666667\n",
       "AU        48        19           39.583333\n",
       "IT        38        14           36.842105\n",
       "SE        14         5           35.714286\n",
       "HK        12         4           33.333333\n",
       "IE        13         4           30.769231\n",
       "NO        11         3           27.272727\n",
       "ES        37        10           27.027027\n",
       "NL        31         6           19.354839\n",
       "CH        14         2           14.285714"
      ]
     },
     "execution_count": 58,
     "metadata": {},
     "output_type": "execute_result"
    }
   ],
   "source": [
    "uspesnost_po_drzavah['uspesnih'] = projekti.groupby('drzava').sum()['uspesnost']\n",
    "uspesnost_po_drzavah['vseh'] = projekti_po_drzavah\n",
    "uspesnost_po_drzavah = uspesnost_po_drzavah[['vseh','uspesnih']]\n",
    "uspesnost_po_drzavah['procent_uspesnosti'] = (((uspesnost_po_drzavah['uspesnih'])/(uspesnost_po_drzavah['vseh']))*100)\n",
    "uspesnost_po_drzavah.sort_values(by='vseh',ascending=False)[:15].sort_values(by='procent_uspesnosti',ascending=False)"
   ]
  },
  {
   "cell_type": "code",
   "execution_count": 61,
   "metadata": {
    "collapsed": false
   },
   "outputs": [
    {
     "data": {
      "text/plain": [
       "<matplotlib.axes._subplots.AxesSubplot at 0x61aba70>"
      ]
     },
     "execution_count": 61,
     "metadata": {},
     "output_type": "execute_result"
    },
    {
     "data": {
      "image/png": "[encoded data removed]",
      "text/plain": [
       "<matplotlib.figure.Figure at 0x61b1b90>"
      ]
     },
     "metadata": {},
     "output_type": "display_data"
    }
   ],
   "source": [
    "uspesnost_po_drzavah.sort_values(by='vseh',ascending=False)[:15].sort_values(by='procent_uspesnosti',ascending=False)[\n",
    "    'procent_uspesnosti'\n",
    "].plot(kind='bar')"
   ]
  },
  {
   "cell_type": "markdown",
   "metadata": {},
   "source": [
    "Vidimo, da so bili projekti, ki so prišli iz Velike Britanije najbolj uspešni. \n",
    "Podobno lahko naredimo še za kategorije."
   ]
  },
  {
   "cell_type": "code",
   "execution_count": 62,
   "metadata": {
    "collapsed": false
   },
   "outputs": [
    {
     "data": {
      "text/plain": [
       "kategorija\n",
       "Product Design      185\n",
       "Tabletop Games      131\n",
       "Music                73\n",
       "Apparel              72\n",
       "Video Games          60\n",
       "Apps                 49\n",
       "Documentary          47\n",
       "Children's Books     45\n",
       "Technology           42\n",
       "Film & Video         37\n",
       "                   ... \n",
       "Workshops             1\n",
       "Animals               1\n",
       "Romance               1\n",
       "Digital Art           1\n",
       "Latin                 1\n",
       "Quilts                1\n",
       "Couture               1\n",
       "Ceramics              1\n",
       "Movie Theaters        1\n",
       "Puzzles               1\n",
       "dtype: int64"
      ]
     },
     "execution_count": 62,
     "metadata": {},
     "output_type": "execute_result"
    }
   ],
   "source": [
    "projekti_po_kategorijah = projekti.groupby('kategorija').size().sort_values(ascending=False)\n",
    "projekti_po_kategorijah"
   ]
  },
  {
   "cell_type": "code",
   "execution_count": 66,
   "metadata": {
    "collapsed": false
   },
   "outputs": [
    {
     "data": {
      "text/html": [
       "<div>\n",
       "<table border=\"1\" class=\"dataframe\">\n",
       "  <thead>\n",
       "    <tr style=\"text-align: right;\">\n",
       "      <th></th>\n",
       "      <th>vseh</th>\n",
       "      <th>uspesnih</th>\n",
       "      <th>procent_uspesnosti</th>\n",
       "    </tr>\n",
       "    <tr>\n",
       "      <th>kategorija</th>\n",
       "      <th></th>\n",
       "      <th></th>\n",
       "      <th></th>\n",
       "    </tr>\n",
       "  </thead>\n",
       "  <tbody>\n",
       "    <tr>\n",
       "      <th>Tabletop Games</th>\n",
       "      <td>131</td>\n",
       "      <td>90</td>\n",
       "      <td>68.702290</td>\n",
       "    </tr>\n",
       "    <tr>\n",
       "      <th>Music</th>\n",
       "      <td>73</td>\n",
       "      <td>39</td>\n",
       "      <td>53.424658</td>\n",
       "    </tr>\n",
       "    <tr>\n",
       "      <th>Documentary</th>\n",
       "      <td>47</td>\n",
       "      <td>25</td>\n",
       "      <td>53.191489</td>\n",
       "    </tr>\n",
       "    <tr>\n",
       "      <th>Accessories</th>\n",
       "      <td>33</td>\n",
       "      <td>17</td>\n",
       "      <td>51.515152</td>\n",
       "    </tr>\n",
       "    <tr>\n",
       "      <th>Children's Books</th>\n",
       "      <td>45</td>\n",
       "      <td>23</td>\n",
       "      <td>51.111111</td>\n",
       "    </tr>\n",
       "    <tr>\n",
       "      <th>Product Design</th>\n",
       "      <td>185</td>\n",
       "      <td>90</td>\n",
       "      <td>48.648649</td>\n",
       "    </tr>\n",
       "    <tr>\n",
       "      <th>Art</th>\n",
       "      <td>35</td>\n",
       "      <td>15</td>\n",
       "      <td>42.857143</td>\n",
       "    </tr>\n",
       "    <tr>\n",
       "      <th>Apparel</th>\n",
       "      <td>72</td>\n",
       "      <td>30</td>\n",
       "      <td>41.666667</td>\n",
       "    </tr>\n",
       "    <tr>\n",
       "      <th>Nonfiction</th>\n",
       "      <td>37</td>\n",
       "      <td>11</td>\n",
       "      <td>29.729730</td>\n",
       "    </tr>\n",
       "    <tr>\n",
       "      <th>Technology</th>\n",
       "      <td>42</td>\n",
       "      <td>12</td>\n",
       "      <td>28.571429</td>\n",
       "    </tr>\n",
       "    <tr>\n",
       "      <th>Video Games</th>\n",
       "      <td>60</td>\n",
       "      <td>15</td>\n",
       "      <td>25.000000</td>\n",
       "    </tr>\n",
       "    <tr>\n",
       "      <th>Film &amp; Video</th>\n",
       "      <td>37</td>\n",
       "      <td>9</td>\n",
       "      <td>24.324324</td>\n",
       "    </tr>\n",
       "    <tr>\n",
       "      <th>Food</th>\n",
       "      <td>36</td>\n",
       "      <td>6</td>\n",
       "      <td>16.666667</td>\n",
       "    </tr>\n",
       "    <tr>\n",
       "      <th>Crafts</th>\n",
       "      <td>35</td>\n",
       "      <td>2</td>\n",
       "      <td>5.714286</td>\n",
       "    </tr>\n",
       "    <tr>\n",
       "      <th>Apps</th>\n",
       "      <td>49</td>\n",
       "      <td>2</td>\n",
       "      <td>4.081633</td>\n",
       "    </tr>\n",
       "  </tbody>\n",
       "</table>\n",
       "</div>"
      ],
      "text/plain": [
       "                  vseh  uspesnih  procent_uspesnosti\n",
       "kategorija                                          \n",
       "Tabletop Games     131        90           68.702290\n",
       "Music               73        39           53.424658\n",
       "Documentary         47        25           53.191489\n",
       "Accessories         33        17           51.515152\n",
       "Children's Books    45        23           51.111111\n",
       "Product Design     185        90           48.648649\n",
       "Art                 35        15           42.857143\n",
       "Apparel             72        30           41.666667\n",
       "Nonfiction          37        11           29.729730\n",
       "Technology          42        12           28.571429\n",
       "Video Games         60        15           25.000000\n",
       "Film & Video        37         9           24.324324\n",
       "Food                36         6           16.666667\n",
       "Crafts              35         2            5.714286\n",
       "Apps                49         2            4.081633"
      ]
     },
     "execution_count": 66,
     "metadata": {},
     "output_type": "execute_result"
    }
   ],
   "source": [
    "uspesnost_po_kategorijah = projekti.groupby('kategorija').sum()\n",
    "uspesnost_po_kategorijah['uspesnih'] = projekti.groupby('kategorija').sum()['uspesnost']\n",
    "uspesnost_po_kategorijah['vseh'] = projekti_po_kategorijah\n",
    "uspesnost_po_kategorijah = uspesnost_po_kategorijah[['vseh','uspesnih']]\n",
    "uspesnost_po_kategorijah['procent_uspesnosti'] = (((uspesnost_po_kategorijah['uspesnih'])/(uspesnost_po_kategorijah['vseh']))*100)\n",
    "uspesnost_po_kategorijah.sort_values(by='vseh',ascending=False)[:15].sort_values(by='procent_uspesnosti',ascending=False)"
   ]
  },
  {
   "cell_type": "code",
   "execution_count": 67,
   "metadata": {
    "collapsed": false,
    "scrolled": false
   },
   "outputs": [
    {
     "data": {
      "text/plain": [
       "<matplotlib.axes._subplots.AxesSubplot at 0x8d43550>"
      ]
     },
     "execution_count": 67,
     "metadata": {},
     "output_type": "execute_result"
    },
    {
     "data": {
      "image/png": "[encoded data removed]",
      "text/plain": [
       "<matplotlib.figure.Figure at 0x89f1310>"
      ]
     },
     "metadata": {},
     "output_type": "display_data"
    }
   ],
   "source": [
    "uspesnost_po_kategorijah.sort_values(by='vseh',ascending=False)[:15].sort_values(by='procent_uspesnosti',\n",
    "                                                                                 ascending=False)[\n",
    "    'procent_uspesnosti'\n",
    "].plot(kind = 'bar')"
   ]
  },
  {
   "cell_type": "markdown",
   "metadata": {},
   "source": [
    "Vidimo, da je največ projektov iz kategorije Product Design, vendar se izkaže da ta kategorija ni najbolj uspešna, vendar ima še vedno večjo uspešnost od skupne uspešnosti vseh projektov. Najbolj uspešni pa so projekti iz kategorije Tabletop Games, ki so bili uspešni kar v 69% primerov.\n",
    "Oglejmo si sedaj, kako(če sploh) višina cilja vpliva na uspešnost projekta"
   ]
  },
  {
   "cell_type": "code",
   "execution_count": null,
   "metadata": {
    "collapsed": false
   },
   "outputs": [],
   "source": []
  },
  {
   "cell_type": "code",
   "execution_count": 4,
   "metadata": {
    "collapsed": false
   },
   "outputs": [
    {
     "data": {
      "text/html": [
       "<div>\n",
       "<table border=\"1\" class=\"dataframe\">\n",
       "  <thead>\n",
       "    <tr style=\"text-align: right;\">\n",
       "      <th></th>\n",
       "      <th>cilj</th>\n",
       "      <th>uspesnih</th>\n",
       "      <th>vseh</th>\n",
       "      <th>procent uspesnosti</th>\n",
       "    </tr>\n",
       "  </thead>\n",
       "  <tbody>\n",
       "    <tr>\n",
       "      <th>0</th>\n",
       "      <td>med 0 in 5000</td>\n",
       "      <td>455</td>\n",
       "      <td>892</td>\n",
       "      <td>51.008969</td>\n",
       "    </tr>\n",
       "    <tr>\n",
       "      <th>1</th>\n",
       "      <td>med 5000 in 10000</td>\n",
       "      <td>161</td>\n",
       "      <td>371</td>\n",
       "      <td>43.396226</td>\n",
       "    </tr>\n",
       "    <tr>\n",
       "      <th>2</th>\n",
       "      <td>med 10000 in 15000</td>\n",
       "      <td>73</td>\n",
       "      <td>174</td>\n",
       "      <td>41.954023</td>\n",
       "    </tr>\n",
       "    <tr>\n",
       "      <th>3</th>\n",
       "      <td>med 15000 in 20000</td>\n",
       "      <td>31</td>\n",
       "      <td>108</td>\n",
       "      <td>28.703704</td>\n",
       "    </tr>\n",
       "    <tr>\n",
       "      <th>4</th>\n",
       "      <td>med 20000 in 25000</td>\n",
       "      <td>32</td>\n",
       "      <td>77</td>\n",
       "      <td>41.558442</td>\n",
       "    </tr>\n",
       "    <tr>\n",
       "      <th>5</th>\n",
       "      <td>med 25000 in 30000</td>\n",
       "      <td>34</td>\n",
       "      <td>74</td>\n",
       "      <td>45.945946</td>\n",
       "    </tr>\n",
       "    <tr>\n",
       "      <th>6</th>\n",
       "      <td>med 30000 in 35000</td>\n",
       "      <td>9</td>\n",
       "      <td>28</td>\n",
       "      <td>32.142857</td>\n",
       "    </tr>\n",
       "    <tr>\n",
       "      <th>7</th>\n",
       "      <td>med 35000 in 40000</td>\n",
       "      <td>8</td>\n",
       "      <td>26</td>\n",
       "      <td>30.769231</td>\n",
       "    </tr>\n",
       "    <tr>\n",
       "      <th>8</th>\n",
       "      <td>med 40000 in 45000</td>\n",
       "      <td>5</td>\n",
       "      <td>8</td>\n",
       "      <td>62.500000</td>\n",
       "    </tr>\n",
       "    <tr>\n",
       "      <th>9</th>\n",
       "      <td>med 45000 in 50000</td>\n",
       "      <td>30</td>\n",
       "      <td>81</td>\n",
       "      <td>37.037037</td>\n",
       "    </tr>\n",
       "    <tr>\n",
       "      <th>...</th>\n",
       "      <td>...</td>\n",
       "      <td>...</td>\n",
       "      <td>...</td>\n",
       "      <td>...</td>\n",
       "    </tr>\n",
       "    <tr>\n",
       "      <th>17</th>\n",
       "      <td>med 85000 in 90000</td>\n",
       "      <td>1</td>\n",
       "      <td>10</td>\n",
       "      <td>10.000000</td>\n",
       "    </tr>\n",
       "    <tr>\n",
       "      <th>18</th>\n",
       "      <td>med 90000 in 95000</td>\n",
       "      <td>0</td>\n",
       "      <td>2</td>\n",
       "      <td>0.000000</td>\n",
       "    </tr>\n",
       "    <tr>\n",
       "      <th>19</th>\n",
       "      <td>med 95000 in 100000</td>\n",
       "      <td>7</td>\n",
       "      <td>28</td>\n",
       "      <td>25.000000</td>\n",
       "    </tr>\n",
       "    <tr>\n",
       "      <th>20</th>\n",
       "      <td>med 105000 in 110000</td>\n",
       "      <td>0</td>\n",
       "      <td>2</td>\n",
       "      <td>0.000000</td>\n",
       "    </tr>\n",
       "    <tr>\n",
       "      <th>21</th>\n",
       "      <td>med 115000 in 120000</td>\n",
       "      <td>0</td>\n",
       "      <td>5</td>\n",
       "      <td>0.000000</td>\n",
       "    </tr>\n",
       "    <tr>\n",
       "      <th>22</th>\n",
       "      <td>med 120000 in 125000</td>\n",
       "      <td>1</td>\n",
       "      <td>2</td>\n",
       "      <td>50.000000</td>\n",
       "    </tr>\n",
       "    <tr>\n",
       "      <th>23</th>\n",
       "      <td>med 140000 in 145000</td>\n",
       "      <td>0</td>\n",
       "      <td>1</td>\n",
       "      <td>0.000000</td>\n",
       "    </tr>\n",
       "    <tr>\n",
       "      <th>24</th>\n",
       "      <td>med 145000 in 150000</td>\n",
       "      <td>1</td>\n",
       "      <td>7</td>\n",
       "      <td>14.285714</td>\n",
       "    </tr>\n",
       "    <tr>\n",
       "      <th>25</th>\n",
       "      <td>med 195000 in 200000</td>\n",
       "      <td>1</td>\n",
       "      <td>9</td>\n",
       "      <td>11.111111</td>\n",
       "    </tr>\n",
       "    <tr>\n",
       "      <th>26</th>\n",
       "      <td>med 220000 in 225000</td>\n",
       "      <td>0</td>\n",
       "      <td>1</td>\n",
       "      <td>0.000000</td>\n",
       "    </tr>\n",
       "  </tbody>\n",
       "</table>\n",
       "<p>27 rows × 4 columns</p>\n",
       "</div>"
      ],
      "text/plain": [
       "                    cilj  uspesnih  vseh  procent uspesnosti\n",
       "0          med 0 in 5000       455   892           51.008969\n",
       "1      med 5000 in 10000       161   371           43.396226\n",
       "2     med 10000 in 15000        73   174           41.954023\n",
       "3     med 15000 in 20000        31   108           28.703704\n",
       "4     med 20000 in 25000        32    77           41.558442\n",
       "5     med 25000 in 30000        34    74           45.945946\n",
       "6     med 30000 in 35000         9    28           32.142857\n",
       "7     med 35000 in 40000         8    26           30.769231\n",
       "8     med 40000 in 45000         5     8           62.500000\n",
       "9     med 45000 in 50000        30    81           37.037037\n",
       "..                   ...       ...   ...                 ...\n",
       "17    med 85000 in 90000         1    10           10.000000\n",
       "18    med 90000 in 95000         0     2            0.000000\n",
       "19   med 95000 in 100000         7    28           25.000000\n",
       "20  med 105000 in 110000         0     2            0.000000\n",
       "21  med 115000 in 120000         0     5            0.000000\n",
       "22  med 120000 in 125000         1     2           50.000000\n",
       "23  med 140000 in 145000         0     1            0.000000\n",
       "24  med 145000 in 150000         1     7           14.285714\n",
       "25  med 195000 in 200000         1     9           11.111111\n",
       "26  med 220000 in 225000         0     1            0.000000\n",
       "\n",
       "[27 rows x 4 columns]"
      ]
     },
     "execution_count": 4,
     "metadata": {},
     "output_type": "execute_result"
    }
   ],
   "source": [
    "podatki = []\n",
    "for i in range(1,50):\n",
    "    vseh = len(projekti[(projekti.cilj <= (i*5000)) & (projekti.cilj > ((i-1)*5000))].index)\n",
    "    if not(vseh == 0):\n",
    "        cilj = 'med '+ str((i-1)*5000) + ' in ' + str(i*5000)\n",
    "        usp = projekti[(projekti.cilj <= (i*5000)) & (projekti.cilj > ((i-1)*5000))].sum()['uspesnost']\n",
    "        procent = (usp/vseh)*100\n",
    "        podatki.append([cilj,usp,vseh,procent])\n",
    "\n",
    "uspesnost_po_cilju = pd.DataFrame(columns=['cilj','uspesnih','vseh','procent uspesnosti'], data = podatki)   \n",
    "uspesnost_po_cilju  "
   ]
  },
  {
   "cell_type": "code",
   "execution_count": 8,
   "metadata": {
    "collapsed": false
   },
   "outputs": [
    {
     "data": {
      "text/plain": [
       "<matplotlib.axes._subplots.AxesSubplot at 0x15867f0>"
      ]
     },
     "execution_count": 8,
     "metadata": {},
     "output_type": "execute_result"
    },
    {
     "data": {
      "image/png": "[encoded data removed]",
      "text/plain": [
       "<matplotlib.figure.Figure at 0x154ad70>"
      ]
     },
     "metadata": {},
     "output_type": "display_data"
    }
   ],
   "source": [
    "uspesnost_po_cilju.plot(x = 'cilj',y='procent uspesnosti',kind='bar')"
   ]
  },
  {
   "cell_type": "markdown",
   "metadata": {
    "collapsed": false
   },
   "source": [
    "Vidimo, da so bolj uspešni projekti s ciljem do 50 000 dolarjev. Kakšnega boljšega zakjučka iz naših podatkov nemoremo narediti, saj mislim, da imamo premalo podatkov za resnejšo analizo.\n",
    "Oglejmo si še povprečne cilj dovolj zastopanih kategorij. "
   ]
  },
  {
   "cell_type": "code",
   "execution_count": 53,
   "metadata": {
    "collapsed": false
   },
   "outputs": [
    {
     "data": {
      "text/plain": [
       "kategorija\n",
       "Gadgets             57765.625000\n",
       "Apps                48534.877551\n",
       "Video Games         44027.183333\n",
       "Technology          44023.547619\n",
       "Film & Video        42818.918919\n",
       "Documentary         37654.914894\n",
       "Food                30511.388889\n",
       "Product Design      23805.713514\n",
       "Accessories         20882.000000\n",
       "Fashion             20473.900000\n",
       "Publishing          16196.969697\n",
       "Tabletop Games      15202.381679\n",
       "Apparel             14951.388889\n",
       "Music               12094.575342\n",
       "Nonfiction          10976.675676\n",
       "Art                  9767.514286\n",
       "Fiction              7790.322581\n",
       "Children's Books     5679.022222\n",
       "Crafts               4940.571429\n",
       "Illustration         2955.968750\n",
       "Name: povprecni cilj, dtype: float64"
      ]
     },
     "execution_count": 53,
     "metadata": {},
     "output_type": "execute_result"
    }
   ],
   "source": [
    "povprecni_cilj_na_kategorijo = projekti.groupby('kategorija').count().sort_values(by='cilj',ascending=False)[:20]\n",
    "povprecni_cilj_na_kategorijo['povprecni cilj'] = projekti.groupby('kategorija').mean()['cilj']\n",
    "povprecni_cilj_na_kategorijo['povprecni cilj'].sort_values(ascending=False)"
   ]
  },
  {
   "cell_type": "code",
   "execution_count": 55,
   "metadata": {
    "collapsed": false
   },
   "outputs": [
    {
     "data": {
      "text/plain": [
       "<matplotlib.axes._subplots.AxesSubplot at 0x1628fb0>"
      ]
     },
     "execution_count": 55,
     "metadata": {},
     "output_type": "execute_result"
    },
    {
     "data": {
      "image/png": "[encoded data removed]",
      "text/plain": [
       "<matplotlib.figure.Figure at 0x5928db0>"
      ]
     },
     "metadata": {},
     "output_type": "display_data"
    }
   ],
   "source": [
    "povprecni_cilj_na_kategorijo['povprecni cilj'].sort_values(ascending=False).plot(kind='bar')"
   ]
  },
  {
   "cell_type": "code",
   "execution_count": null,
   "metadata": {
    "collapsed": false
   },
   "outputs": [],
   "source": []
  },
  {
   "cell_type": "code",
   "execution_count": null,
   "metadata": {
    "collapsed": true
   },
   "outputs": [],
   "source": []
  }
 ],
 "metadata": {
  "kernelspec": {
   "display_name": "Python 3",
   "language": "python",
   "name": "python3"
  },
  "language_info": {
   "codemirror_mode": {
    "name": "ipython",
    "version": 3
   },
   "file_extension": ".py",
   "mimetype": "text/x-python",
   "name": "python",
   "nbconvert_exporter": "python",
   "pygments_lexer": "ipython3",
   "version": "3.5.2"
  }
 },
 "nbformat": 4,
 "nbformat_minor": 2
}
